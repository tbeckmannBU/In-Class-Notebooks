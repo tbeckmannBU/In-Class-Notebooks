{
 "cells": [
  {
   "cell_type": "markdown",
   "metadata": {},
   "source": [
    "# Chapter 7 While Loop\n",
    "* The for loop takes a collection of items and executes a block of code once for each item in the collection. \n",
    "* In contrast, the while loop runs as long as, or while, a certain condition is true."
   ]
  },
  {
   "cell_type": "markdown",
   "metadata": {},
   "source": [
    "## The while Loop in Action\n",
    "You can use a while loop to count up through a series of numbers. For\n",
    "example, the following while loop counts from 1 to 5:\n"
   ]
  },
  {
   "cell_type": "code",
   "execution_count": 7,
   "metadata": {},
   "outputs": [
    {
     "name": "stdout",
     "output_type": "stream",
     "text": [
      "1\n",
      "2\n",
      "3\n",
      "4\n",
      "5\n"
     ]
    }
   ],
   "source": [
    "for i in range(1,6):\n",
    "    print(i)"
   ]
  },
  {
   "cell_type": "code",
   "execution_count": 8,
   "metadata": {},
   "outputs": [
    {
     "name": "stdout",
     "output_type": "stream",
     "text": [
      "1\n",
      "2\n",
      "3\n",
      "4\n",
      "5\n"
     ]
    }
   ],
   "source": [
    "i=1 # initialization\n",
    "# condition check\n",
    "while i<=5:\n",
    "    print(i)\n",
    "    i+=1  # increment i=i+1"
   ]
  },
  {
   "cell_type": "code",
   "execution_count": 9,
   "metadata": {},
   "outputs": [
    {
     "name": "stdout",
     "output_type": "stream",
     "text": [
      "1\n",
      "2\n",
      "3\n",
      "4\n"
     ]
    }
   ],
   "source": [
    "i=1\n",
    "# condition check\n",
    "while i<5:\n",
    "    print(i)\n",
    "    i+=1"
   ]
  },
  {
   "cell_type": "markdown",
   "metadata": {},
   "source": [
    "## Letting the User Choose When to Quit"
   ]
  },
  {
   "cell_type": "code",
   "execution_count": 10,
   "metadata": {},
   "outputs": [],
   "source": [
    "prompt=\"\\nTell me something, and I will repeat back it to you. Enter \\'quit\\' to end the program: \""
   ]
  },
  {
   "cell_type": "code",
   "execution_count": 11,
   "metadata": {},
   "outputs": [
    {
     "name": "stdout",
     "output_type": "stream",
     "text": [
      "\n",
      "Tell me something, and I will repeat back it to you. Enter 'quit' to end the program: 1\n",
      "1\n",
      "\n",
      "Tell me something, and I will repeat back it to you. Enter 'quit' to end the program: 4\n",
      "4\n",
      "\n",
      "Tell me something, and I will repeat back it to you. Enter 'quit' to end the program: quit\n",
      "quit\n"
     ]
    }
   ],
   "source": [
    "message=\" \"\n",
    "while message!='quit':\n",
    "    message=input(prompt) \n",
    "    print(message)"
   ]
  },
  {
   "cell_type": "markdown",
   "metadata": {},
   "source": [
    "## A Flag"
   ]
  },
  {
   "cell_type": "markdown",
   "metadata": {
    "slideshow": {
     "slide_type": "subslide"
    }
   },
   "source": [
    "### For a program that should run only as long as many conditions are true, you can define one variable that determines whether or not the entire program is active. This variable, called a `flag`, acts as a signal to the program."
   ]
  },
  {
   "cell_type": "code",
   "execution_count": 12,
   "metadata": {},
   "outputs": [],
   "source": [
    "prompt=\"\\nTell me something, and I will repeat back it to you. Enter \\'quit\\' to end the program: \""
   ]
  },
  {
   "cell_type": "code",
   "execution_count": 13,
   "metadata": {},
   "outputs": [
    {
     "name": "stdout",
     "output_type": "stream",
     "text": [
      "\n",
      "Tell me something, and I will repeat back it to you. Enter 'quit' to end the program: 2\n",
      "2\n",
      "\n",
      "Tell me something, and I will repeat back it to you. Enter 'quit' to end the program: 4\n",
      "4\n",
      "\n",
      "Tell me something, and I will repeat back it to you. Enter 'quit' to end the program: 8\n",
      "8\n",
      "\n",
      "Tell me something, and I will repeat back it to you. Enter 'quit' to end the program: quit\n"
     ]
    }
   ],
   "source": [
    "#Flag two cases True or False\n",
    "message=\" \"\n",
    "active=True\n",
    "while active:\n",
    "    message=input(prompt)\n",
    "    \n",
    "    if message=='quit':\n",
    "        active=False # flag\n",
    "    else:\n",
    "        print(message)"
   ]
  },
  {
   "cell_type": "markdown",
   "metadata": {},
   "source": [
    "## Using break to Exit a Loop\n",
    "To exit a while loop immediately without running any remaining code in the\n",
    "loop, regardless of the results of any conditional test, use the break statement."
   ]
  },
  {
   "cell_type": "code",
   "execution_count": 14,
   "metadata": {},
   "outputs": [],
   "source": [
    "prompt=\"\\nEnter name of the cities you want to visit. Enter \\'quit\\' to exit: \""
   ]
  },
  {
   "cell_type": "code",
   "execution_count": 15,
   "metadata": {},
   "outputs": [
    {
     "name": "stdout",
     "output_type": "stream",
     "text": [
      "\n",
      "Enter name of the cities you want to visit. Enter 'quit' to exit: Rio\n",
      "I would love to visit Rio!\n",
      "\n",
      "Enter name of the cities you want to visit. Enter 'quit' to exit: New York\n",
      "I would love to visit New York!\n",
      "\n",
      "Enter name of the cities you want to visit. Enter 'quit' to exit: Houston\n",
      "I would love to visit Houston!\n",
      "\n",
      "Enter name of the cities you want to visit. Enter 'quit' to exit: quit\n"
     ]
    }
   ],
   "source": [
    "city=\" \"\n",
    "active=True # Flag\n",
    "while active:\n",
    "    city=input(prompt)\n",
    "    if city=='quit':\n",
    "        break\n",
    "    else:\n",
    "        print(\"I would love to visit \"+ city.title()+ \"!\")"
   ]
  },
  {
   "cell_type": "markdown",
   "metadata": {},
   "source": [
    "### Guess the number"
   ]
  },
  {
   "cell_type": "code",
   "execution_count": 16,
   "metadata": {},
   "outputs": [
    {
     "name": "stdout",
     "output_type": "stream",
     "text": [
      "\n",
      "Guess a number in between 1 to 10: 7\n",
      "Not a correct number, guess again\n",
      "\n",
      "Guess a number in between 1 to 10: 6\n",
      "You have guessed correctly\n"
     ]
    }
   ],
   "source": [
    "prompt=\"\\nGuess a number in between 1 to 10: \"\n",
    "number=0\n",
    "active=True\n",
    "while active:\n",
    "    number=int(input(prompt))\n",
    "    if number==6:\n",
    "        print(\"You have guessed correctly\")\n",
    "        break\n",
    "    else:\n",
    "        print(\"Not a correct number, guess again\")"
   ]
  },
  {
   "cell_type": "markdown",
   "metadata": {},
   "source": [
    "### Guess the number with proper direction"
   ]
  },
  {
   "cell_type": "code",
   "execution_count": 18,
   "metadata": {},
   "outputs": [
    {
     "name": "stdout",
     "output_type": "stream",
     "text": [
      "\n",
      " Enter a number in between 1 to 20: 7\n",
      "Guess the number smaller than current guess\n",
      "\n",
      " Enter a number in between 1 to 20: 3\n",
      "Guess a number bigger than current guess\n",
      "\n",
      " Enter a number in between 1 to 20: 5\n",
      "Guess a number bigger than current guess\n",
      "\n",
      " Enter a number in between 1 to 20: 6\n",
      "You guessed correctly\n"
     ]
    }
   ],
   "source": [
    "prompt=\"\\n Enter a number in between 1 to 20: \"\n",
    "number_new=0 \n",
    "active=True\n",
    "while active:\n",
    "    number_new=int(input(prompt))\n",
    "    if number_new<1 or number_new>20:\n",
    "        print(\"The number is invalid, enter a number between 1 to 20\")\n",
    "    elif number_new==6:\n",
    "        print(\"You guessed correctly\")\n",
    "        break\n",
    "    elif number_new<6:\n",
    "        print(\"Guess a number bigger than current guess\")\n",
    "    else:\n",
    "        print(\"Guess the number smaller than current guess\")\n",
    "    "
   ]
  },
  {
   "cell_type": "markdown",
   "metadata": {},
   "source": [
    "### Break with for loop"
   ]
  },
  {
   "cell_type": "code",
   "execution_count": 19,
   "metadata": {},
   "outputs": [
    {
     "name": "stdout",
     "output_type": "stream",
     "text": [
      "1 2 3 4 5 6 7 8 9 10 11 12 13 14 15 16 17 18 19 20 21 22 23 24 25 26 27 28 29 30 31 32 33 34 35 36 37 38 39 "
     ]
    }
   ],
   "source": [
    "#Printing all of the numbers between 0 to 100. The loop will break at 40\n",
    "for number in range(1,100):\n",
    "    if number==40:\n",
    "        break\n",
    "    print(number, end=\" \")\n",
    "        "
   ]
  },
  {
   "cell_type": "markdown",
   "metadata": {},
   "source": [
    "### Using continue in a Loop\n",
    "- Rather than breaking out of a loop entirely without executing the rest of its code, \n",
    "- you can use the continue statement to return to the beginning of the loop based on the result of a conditional test. \n",
    "- For example, consider a loop that counts from 1 to 10 but prints only the odd numbers in that range:"
   ]
  },
  {
   "cell_type": "code",
   "execution_count": 20,
   "metadata": {},
   "outputs": [
    {
     "name": "stdout",
     "output_type": "stream",
     "text": [
      "1 3 5 7 9 11 "
     ]
    }
   ],
   "source": [
    "number=0\n",
    "while number<=10:\n",
    "    number+=1\n",
    "    if number%2==0:\n",
    "        continue\n",
    "    print(number, end =\" \")\n",
    "   \n",
    "\n"
   ]
  },
  {
   "cell_type": "markdown",
   "metadata": {},
   "source": [
    "### consider a loop (while/for) that counts from 10 to 20 but prints only the even numbers in that range, use continue statement:"
   ]
  },
  {
   "cell_type": "code",
   "execution_count": 21,
   "metadata": {},
   "outputs": [
    {
     "name": "stdout",
     "output_type": "stream",
     "text": [
      "10\n",
      "12\n",
      "14\n",
      "16\n",
      "18\n"
     ]
    }
   ],
   "source": [
    "for number in range (10,20):\n",
    "    if number%2!=0: #if the number id odd then continue/do not print the number\n",
    "        continue\n",
    "    print(number)"
   ]
  },
  {
   "cell_type": "markdown",
   "metadata": {},
   "source": [
    "### Movie Tickets: A movie theater charges different ticket prices depending on a person’s age. \n",
    "- If a person is under the age of 3, the ticket is free; if they are between 3 and 12, the ticket is 10 dollar\n",
    "- if they are over age 12, the ticket is 15 dollar. \n",
    "Write a while loop in which you ask users their age, and then tell them the cost of their movie ticket."
   ]
  },
  {
   "cell_type": "code",
   "execution_count": 23,
   "metadata": {},
   "outputs": [
    {
     "name": "stdout",
     "output_type": "stream",
     "text": [
      "Enter your age: 31\n",
      "Your ticket price is $15\n",
      "Enter your age: 16\n",
      "Your ticket price is $15\n",
      "Enter your age: 3\n",
      "Your ticket price is $10\n",
      "Enter your age: -1\n"
     ]
    }
   ],
   "source": [
    "prompt=\"How old are you? Enter -1 to quit\"\n",
    "while True:\n",
    "    age=int(input(\"Enter your age: \"))\n",
    "    if age==-1:\n",
    "        break\n",
    "    elif age<3:\n",
    "        print(\"You do not have to pay for a ticket\")\n",
    "    elif age<13:\n",
    "        print(\"Your ticket price is $10\")\n",
    "    else:\n",
    "        print(\"Your ticket price is $15\")\n",
    "    "
   ]
  },
  {
   "cell_type": "markdown",
   "metadata": {},
   "source": [
    "## Using a while Loop with Lists and Dictionaries"
   ]
  },
  {
   "cell_type": "markdown",
   "metadata": {},
   "source": [
    "### Moving Items from One List to Another"
   ]
  },
  {
   "cell_type": "code",
   "execution_count": 24,
   "metadata": {},
   "outputs": [
    {
     "name": "stdout",
     "output_type": "stream",
     "text": [
      "Verifying user: Candace\n",
      "Verifying user: Brian\n",
      "Verifying user: Alice\n",
      "The confirmed user list:  ['candace', 'brian', 'alice']\n",
      "\n",
      "The following users are confirmed: \n",
      "Candace\n",
      "Brian\n",
      "Alice\n"
     ]
    }
   ],
   "source": [
    "#Task is moving names from unconfirmed user to confirmed user\n",
    "unconfirmed_user=['alice','brian','candace']\n",
    "confirmed_user=[]\n",
    "\n",
    "# 1. Verify each user until no more uncorfirmed user\n",
    "# 2. Move verify user into the new list called confirmed user\n",
    "while unconfirmed_user:\n",
    "    current_user=unconfirmed_user.pop()\n",
    "    \n",
    "    print(\"Verifying user: \"+ current_user.title())\n",
    "    \n",
    "    confirmed_user.append(current_user)\n",
    "    #print(\"The confirmed user list: \",confirmed_user )\n",
    "print(\"The confirmed user list: \",confirmed_user )\n",
    "print(\"\\nThe following users are confirmed: \")\n",
    "\n",
    "for name in confirmed_user:\n",
    "    print(name.title())\n"
   ]
  },
  {
   "cell_type": "markdown",
   "metadata": {},
   "source": [
    "### Removing All Instances of Specific Values from a List"
   ]
  },
  {
   "cell_type": "code",
   "execution_count": 25,
   "metadata": {},
   "outputs": [
    {
     "name": "stdout",
     "output_type": "stream",
     "text": [
      "['dog', 'cat', 'dog', 'goldfish', 'cat', 'rabbit']\n"
     ]
    }
   ],
   "source": [
    "pets=['dog','cat', 'dog', 'goldfish', 'cat', 'rabbit']\n",
    "print(pets)"
   ]
  },
  {
   "cell_type": "code",
   "execution_count": 26,
   "metadata": {},
   "outputs": [
    {
     "name": "stdout",
     "output_type": "stream",
     "text": [
      "['dog', 'dog', 'goldfish', 'rabbit']\n"
     ]
    }
   ],
   "source": [
    "#remove all of the cats from the list\n",
    "while 'cat' in pets:\n",
    "    pets.remove('cat')\n",
    "print(pets) #final result"
   ]
  },
  {
   "cell_type": "markdown",
   "metadata": {},
   "source": [
    "### Filling a Dictionary with User Input"
   ]
  },
  {
   "cell_type": "code",
   "execution_count": 27,
   "metadata": {},
   "outputs": [
    {
     "name": "stdout",
     "output_type": "stream",
     "text": [
      "\n",
      "What is your name? Tristan\n",
      "Which country you want to visit? Jamaica\n",
      "Would you like to add another person's response (yes/no)no\n",
      "\n",
      "---Poll Result---\n",
      "Tristan Would like to visit Jamaica\n"
     ]
    }
   ],
   "source": [
    "response_dict={}\n",
    "\n",
    "# flag\n",
    "polling_active= True\n",
    "\n",
    "while polling_active:\n",
    "    #prompt user for name (key) and response(value)\n",
    "    name=input(\"\\nWhat is your name? \")\n",
    "    response=input(\"Which country you want to visit? \")\n",
    "    response_dict[name]=response #dictionary[key]=value\n",
    "    \n",
    "    repeat=input(\"Would you like to add another person's response (yes/no)\")\n",
    "    if repeat=='no':\n",
    "        polling_active=False #break\n",
    "        \n",
    "#Poll complete show results\n",
    "\n",
    "print(\"\\n---Poll Result---\")\n",
    "\n",
    "for name,response in response_dict.items():\n",
    "    print(name.title()+\" Would like to visit \"+response.title())\n",
    "    \n",
    "    "
   ]
  },
  {
   "cell_type": "markdown",
   "metadata": {},
   "source": [
    "#### Deli: Make a list called sandwich_orders and fill it with the names of various sandwiches. \n",
    "- Then make an empty list called finished_sandwiches. \n",
    "- Loop through the list of sandwich orders and print a message for each order, such as I made your tuna sandwich. \n",
    "- As each sandwich is made, move it to the list of finished sandwiches. \n",
    "- After all the sandwiches have been made, print a message listing each sandwich that was made."
   ]
  },
  {
   "cell_type": "code",
   "execution_count": 28,
   "metadata": {},
   "outputs": [
    {
     "name": "stdout",
     "output_type": "stream",
     "text": [
      "I am working on your Roasted Beef sandwich\n",
      "I am working on your Turkey sandwich\n",
      "I am working on your Grilled Cheese sandwich\n",
      "I am working on your Veggie sandwich\n",
      "----- The list of sandwiches-----\n",
      "I made a Roasted Beef sandwich\n",
      "I made a Turkey sandwich\n",
      "I made a Grilled Cheese sandwich\n",
      "I made a Veggie sandwich\n"
     ]
    }
   ],
   "source": [
    "sandwich_orders=['Veggie','grilled cheese','turkey','roasted beef']\n",
    "finished_sandwiches=[]\n",
    "while sandwich_orders:\n",
    "    current_sandwitch=sandwich_orders.pop()\n",
    "    print(\"I am working on your \" + current_sandwitch.title() +\" sandwich\")\n",
    "    finished_sandwiches.append(current_sandwitch)\n",
    "#print(\"The final list is: \",finished_sandwiches )\n",
    "print(\"----- The list of sandwiches-----\")\n",
    "for sandwich in finished_sandwiches:\n",
    "    print(\"I made a \"+ sandwich.title() + \" sandwich\")\n",
    "    "
   ]
  },
  {
   "cell_type": "markdown",
   "metadata": {},
   "source": [
    "## Write a program to print n natural number in descending order using a while loop.\n"
   ]
  },
  {
   "cell_type": "code",
   "execution_count": 29,
   "metadata": {},
   "outputs": [
    {
     "name": "stdout",
     "output_type": "stream",
     "text": [
      "Enter the range: 7\n",
      "7 6 5 4 3 2 1 "
     ]
    }
   ],
   "source": [
    "n=int(input(\"Enter the range: \")) #10\n",
    "\n",
    "while(n!=0):\n",
    "    print(n, end=\" \")\n",
    "    n=n-1"
   ]
  },
  {
   "cell_type": "markdown",
   "metadata": {},
   "source": [
    "## Factorial of a number"
   ]
  },
  {
   "cell_type": "code",
   "execution_count": 30,
   "metadata": {},
   "outputs": [
    {
     "name": "stdout",
     "output_type": "stream",
     "text": [
      "Enter the value of n: 3\n",
      "6\n"
     ]
    }
   ],
   "source": [
    "n=int(input(\"Enter the value of n: \"))\n",
    "\n",
    "fact=1\n",
    "\n",
    "while (n):\n",
    "    fact=fact*n\n",
    "    n-=1 #n=n-1\n",
    "    #print(fact)\n",
    "print(fact)"
   ]
  },
  {
   "cell_type": "markdown",
   "metadata": {},
   "source": [
    "## Take 10 integers from keyboard using loop and print their sum and average value on the screen"
   ]
  },
  {
   "cell_type": "code",
   "execution_count": 33,
   "metadata": {},
   "outputs": [
    {
     "ename": "KeyboardInterrupt",
     "evalue": "Interrupted by user",
     "output_type": "error",
     "traceback": [
      "\u001b[1;31m---------------------------------------------------------------------------\u001b[0m",
      "\u001b[1;31mKeyboardInterrupt\u001b[0m                         Traceback (most recent call last)",
      "\u001b[1;32m~\\AppData\\Local\\Temp\\ipykernel_6272\\2612240124.py\u001b[0m in \u001b[0;36m<module>\u001b[1;34m\u001b[0m\n\u001b[0;32m      4\u001b[0m \u001b[1;33m\u001b[0m\u001b[0m\n\u001b[0;32m      5\u001b[0m \u001b[1;32mwhile\u001b[0m \u001b[0mn\u001b[0m\u001b[1;33m>\u001b[0m\u001b[1;36m0\u001b[0m\u001b[1;33m:\u001b[0m\u001b[1;33m\u001b[0m\u001b[1;33m\u001b[0m\u001b[0m\n\u001b[1;32m----> 6\u001b[1;33m     \u001b[0mnum\u001b[0m\u001b[1;33m=\u001b[0m\u001b[0mint\u001b[0m\u001b[1;33m(\u001b[0m\u001b[0minput\u001b[0m\u001b[1;33m(\u001b[0m\u001b[1;34m\"Enter a number: \"\u001b[0m\u001b[1;33m)\u001b[0m\u001b[1;33m)\u001b[0m\u001b[1;33m\u001b[0m\u001b[1;33m\u001b[0m\u001b[0m\n\u001b[0m\u001b[0;32m      7\u001b[0m     \u001b[0msum\u001b[0m\u001b[1;33m+=\u001b[0m\u001b[0mnum\u001b[0m\u001b[1;33m\u001b[0m\u001b[1;33m\u001b[0m\u001b[0m\n\u001b[0;32m      8\u001b[0m     \u001b[0mn\u001b[0m\u001b[1;33m=\u001b[0m\u001b[0mn\u001b[0m\u001b[1;33m-\u001b[0m\u001b[1;36m1\u001b[0m\u001b[1;33m\u001b[0m\u001b[1;33m\u001b[0m\u001b[0m\n",
      "\u001b[1;32m~\\anaconda2\\lib\\site-packages\\ipykernel\\kernelbase.py\u001b[0m in \u001b[0;36mraw_input\u001b[1;34m(self, prompt)\u001b[0m\n\u001b[0;32m   1175\u001b[0m                 \u001b[1;34m\"raw_input was called, but this frontend does not support input requests.\"\u001b[0m\u001b[1;33m\u001b[0m\u001b[1;33m\u001b[0m\u001b[0m\n\u001b[0;32m   1176\u001b[0m             )\n\u001b[1;32m-> 1177\u001b[1;33m         return self._input_request(\n\u001b[0m\u001b[0;32m   1178\u001b[0m             \u001b[0mstr\u001b[0m\u001b[1;33m(\u001b[0m\u001b[0mprompt\u001b[0m\u001b[1;33m)\u001b[0m\u001b[1;33m,\u001b[0m\u001b[1;33m\u001b[0m\u001b[1;33m\u001b[0m\u001b[0m\n\u001b[0;32m   1179\u001b[0m             \u001b[0mself\u001b[0m\u001b[1;33m.\u001b[0m\u001b[0m_parent_ident\u001b[0m\u001b[1;33m[\u001b[0m\u001b[1;34m\"shell\"\u001b[0m\u001b[1;33m]\u001b[0m\u001b[1;33m,\u001b[0m\u001b[1;33m\u001b[0m\u001b[1;33m\u001b[0m\u001b[0m\n",
      "\u001b[1;32m~\\anaconda2\\lib\\site-packages\\ipykernel\\kernelbase.py\u001b[0m in \u001b[0;36m_input_request\u001b[1;34m(self, prompt, ident, parent, password)\u001b[0m\n\u001b[0;32m   1217\u001b[0m             \u001b[1;32mexcept\u001b[0m \u001b[0mKeyboardInterrupt\u001b[0m\u001b[1;33m:\u001b[0m\u001b[1;33m\u001b[0m\u001b[1;33m\u001b[0m\u001b[0m\n\u001b[0;32m   1218\u001b[0m                 \u001b[1;31m# re-raise KeyboardInterrupt, to truncate traceback\u001b[0m\u001b[1;33m\u001b[0m\u001b[1;33m\u001b[0m\u001b[0m\n\u001b[1;32m-> 1219\u001b[1;33m                 \u001b[1;32mraise\u001b[0m \u001b[0mKeyboardInterrupt\u001b[0m\u001b[1;33m(\u001b[0m\u001b[1;34m\"Interrupted by user\"\u001b[0m\u001b[1;33m)\u001b[0m \u001b[1;32mfrom\u001b[0m \u001b[1;32mNone\u001b[0m\u001b[1;33m\u001b[0m\u001b[1;33m\u001b[0m\u001b[0m\n\u001b[0m\u001b[0;32m   1220\u001b[0m             \u001b[1;32mexcept\u001b[0m \u001b[0mException\u001b[0m\u001b[1;33m:\u001b[0m\u001b[1;33m\u001b[0m\u001b[1;33m\u001b[0m\u001b[0m\n\u001b[0;32m   1221\u001b[0m                 \u001b[0mself\u001b[0m\u001b[1;33m.\u001b[0m\u001b[0mlog\u001b[0m\u001b[1;33m.\u001b[0m\u001b[0mwarning\u001b[0m\u001b[1;33m(\u001b[0m\u001b[1;34m\"Invalid Message:\"\u001b[0m\u001b[1;33m,\u001b[0m \u001b[0mexc_info\u001b[0m\u001b[1;33m=\u001b[0m\u001b[1;32mTrue\u001b[0m\u001b[1;33m)\u001b[0m\u001b[1;33m\u001b[0m\u001b[1;33m\u001b[0m\u001b[0m\n",
      "\u001b[1;31mKeyboardInterrupt\u001b[0m: Interrupted by user"
     ]
    }
   ],
   "source": [
    "sum=0 #initialization\n",
    "\n",
    "n=10\n",
    "\n",
    "while n>0:\n",
    "    num=int(input(\"Enter a number: \"))\n",
    "    sum+=num\n",
    "    n=n-1\n",
    "print(\"The sum is\", sum)\n",
    "print(\"The average is\", sum/10)\n"
   ]
  },
  {
   "cell_type": "markdown",
   "metadata": {},
   "source": [
    "## Take 5 integers from keyboard using loop and print their multiplication on the screen"
   ]
  },
  {
   "cell_type": "code",
   "execution_count": 34,
   "metadata": {},
   "outputs": [
    {
     "name": "stdout",
     "output_type": "stream",
     "text": [
      "Enter a number: 3\n",
      "Enter a number: 5\n",
      "Enter a number: 1\n",
      "Enter a number: 0\n",
      "Enter a number: break\n"
     ]
    },
    {
     "ename": "ValueError",
     "evalue": "invalid literal for int() with base 10: 'break'",
     "output_type": "error",
     "traceback": [
      "\u001b[1;31m---------------------------------------------------------------------------\u001b[0m",
      "\u001b[1;31mValueError\u001b[0m                                Traceback (most recent call last)",
      "\u001b[1;32m~\\AppData\\Local\\Temp\\ipykernel_6272\\4241032345.py\u001b[0m in \u001b[0;36m<module>\u001b[1;34m\u001b[0m\n\u001b[0;32m      4\u001b[0m \u001b[1;33m\u001b[0m\u001b[0m\n\u001b[0;32m      5\u001b[0m \u001b[1;32mwhile\u001b[0m \u001b[0mn\u001b[0m\u001b[1;33m>\u001b[0m\u001b[1;36m0\u001b[0m\u001b[1;33m:\u001b[0m\u001b[1;33m\u001b[0m\u001b[1;33m\u001b[0m\u001b[0m\n\u001b[1;32m----> 6\u001b[1;33m     \u001b[0mnum\u001b[0m\u001b[1;33m=\u001b[0m\u001b[0mint\u001b[0m\u001b[1;33m(\u001b[0m\u001b[0minput\u001b[0m\u001b[1;33m(\u001b[0m\u001b[1;34m\"Enter a number: \"\u001b[0m\u001b[1;33m)\u001b[0m\u001b[1;33m)\u001b[0m\u001b[1;33m\u001b[0m\u001b[1;33m\u001b[0m\u001b[0m\n\u001b[0m\u001b[0;32m      7\u001b[0m     \u001b[0mmultiply\u001b[0m\u001b[1;33m*=\u001b[0m\u001b[0mnum\u001b[0m\u001b[1;33m\u001b[0m\u001b[1;33m\u001b[0m\u001b[0m\n\u001b[0;32m      8\u001b[0m     \u001b[0mn\u001b[0m\u001b[1;33m=\u001b[0m\u001b[0mn\u001b[0m\u001b[1;33m-\u001b[0m\u001b[1;36m1\u001b[0m\u001b[1;33m\u001b[0m\u001b[1;33m\u001b[0m\u001b[0m\n",
      "\u001b[1;31mValueError\u001b[0m: invalid literal for int() with base 10: 'break'"
     ]
    }
   ],
   "source": [
    "multiply=1 #initialization\n",
    "\n",
    "n=5\n",
    "\n",
    "while n>0:\n",
    "    num=int(input(\"Enter a number: \"))\n",
    "    multiply*=num\n",
    "    n=n-1\n",
    "print(\"The multiplication is\", multiply)"
   ]
  },
  {
   "cell_type": "code",
   "execution_count": null,
   "metadata": {},
   "outputs": [],
   "source": []
  },
  {
   "attachments": {
    "image.png": {
     "image/png": "[encoded data removed]"
    }
   },
   "cell_type": "markdown",
   "metadata": {},
   "source": [
    "## Print the following patterns using loop :\n",
    "![image.png](attachment:image.png)"
   ]
  },
  {
   "cell_type": "code",
   "execution_count": 35,
   "metadata": {},
   "outputs": [
    {
     "name": "stdout",
     "output_type": "stream",
     "text": [
      " * \n",
      " *  * \n",
      " *  *  * \n",
      " *  *  *  * \n"
     ]
    }
   ],
   "source": [
    "i=1\n",
    "while i<=4:\n",
    "    print(i*\" * \")\n",
    "    i+=1"
   ]
  },
  {
   "cell_type": "code",
   "execution_count": null,
   "metadata": {},
   "outputs": [],
   "source": []
  },
  {
   "cell_type": "markdown",
   "metadata": {},
   "source": [
    "## Write a program to display the first 7 multiples of 7.\n"
   ]
  },
  {
   "cell_type": "code",
   "execution_count": 36,
   "metadata": {},
   "outputs": [
    {
     "name": "stdout",
     "output_type": "stream",
     "text": [
      "0 7 14 21 28 35 42 49 "
     ]
    }
   ],
   "source": [
    "counter=0\n",
    "\n",
    "for i in range(1000):\n",
    "    if i%7==0:\n",
    "        print(i,end=\" \")    \n",
    "        counter+=1\n",
    "        if counter==8:\n",
    "            break\n",
    "    "
   ]
  },
  {
   "cell_type": "markdown",
   "metadata": {},
   "source": [
    "## Write a program that appends the square of each number to a new list."
   ]
  },
  {
   "cell_type": "code",
   "execution_count": 37,
   "metadata": {},
   "outputs": [
    {
     "name": "stdout",
     "output_type": "stream",
     "text": [
      "Result [1, 4, 9, 16, 25]\n"
     ]
    }
   ],
   "source": [
    "X=[1,2,3,4,5]\n",
    "z=[]\n",
    "\n",
    "for i in range(len(X)): # i is controlling the index of the X list\n",
    "    z.append(X[i]**2)\n",
    "    #print(z)\n",
    "    \n",
    "print(\"Result\", z)"
   ]
  },
  {
   "cell_type": "markdown",
   "metadata": {},
   "source": [
    "## Separate positive and negative number from a list.\n",
    "x = [23,12,-4,23,-9,21,3,-45,-8]"
   ]
  },
  {
   "cell_type": "code",
   "execution_count": 38,
   "metadata": {},
   "outputs": [
    {
     "name": "stdout",
     "output_type": "stream",
     "text": [
      "The positive list [23, 12, 23, 21, 3]\n",
      "The negative list [-4, -9, -45, -8]\n"
     ]
    }
   ],
   "source": [
    "x = [23,12,-4,23,-9,21,3,-45,-8]\n",
    "pos=[]\n",
    "neg=[]\n",
    "\n",
    "for i in range(len(x)):\n",
    "    if x[i]>=0:\n",
    "        pos.append(x[i]) # positive numbers\n",
    "    else:\n",
    "        neg.append(x[i])\n",
    "print(\"The positive list\", pos)\n",
    "print(\"The negative list\", neg)\n"
   ]
  }
 ],
 "metadata": {
  "celltoolbar": "Slideshow",
  "kernelspec": {
   "display_name": "Python 3 (ipykernel)",
   "language": "python",
   "name": "python3"
  },
  "language_info": {
   "codemirror_mode": {
    "name": "ipython",
    "version": 3
   },
   "file_extension": ".py",
   "mimetype": "text/x-python",
   "name": "python",
   "nbconvert_exporter": "python",
   "pygments_lexer": "ipython3",
   "version": "3.9.13"
  }
 },
 "nbformat": 4,
 "nbformat_minor": 2
}
