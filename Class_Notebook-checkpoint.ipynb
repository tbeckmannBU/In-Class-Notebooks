{
 "cells": [
  {
   "cell_type": "markdown",
   "id": "4ef4485e",
   "metadata": {},
   "source": [
    "# Ch9 Classes"
   ]
  },
  {
   "cell_type": "markdown",
   "id": "7b465366",
   "metadata": {},
   "source": [
    "### Python is an object oriented programming language.\n",
    "- Almost everything in Python is an object, with its properties and methods (Functions).\n",
    "- A Class is like an object constructor, or a \"blueprint\" for creating objects."
   ]
  },
  {
   "cell_type": "code",
   "execution_count": 24,
   "id": "741b88de",
   "metadata": {},
   "outputs": [
    {
     "name": "stdout",
     "output_type": "stream",
     "text": [
      "The email of the first employee is: angy.hill@company.com\n",
      "The first name of employee1: Angy\n",
      "The last name of employee1: Hill\n",
      "The age of employee1: 35\n",
      "The email of employee2: peter.white@company.com\n",
      "The full name: Angy Hill\n",
      "The full name: Peter White\n"
     ]
    }
   ],
   "source": [
    "class Employee(): # name of the class\n",
    "# init is the constructor of the class. It is mandatory for a class construction. \n",
    "# self is used to represent the instance of the class. \n",
    "    \n",
    "    def __init__(self,first,last,age,dept): #method or function\n",
    "        self.first=first.title()\n",
    "        self.last=last.title()\n",
    "        self.age=age\n",
    "        self.dept=dept.title()\n",
    "        self.email=first.lower()+\".\"+last.lower()+\"@company.com\"\n",
    "  # creating a method called fullname. It needs only the instance.   \n",
    "    def fullname(self):\n",
    "        print(f\"The full name: {emp_1.first} {emp_1.last}\")\n",
    "        print(f\"The full name: {emp_2.first} {emp_2.last}\")\n",
    "        \n",
    "# init will run automatically when you call the class\n",
    "emp_1=Employee(\"angy\", \"hill\", 25, \"accounting\")\n",
    "emp_2=Employee(\"PETER\", \"WHITE\", 35, \"finance\")\n",
    "\n",
    "print(f\"The email of the first employee is: {emp_1.email}\")\n",
    "print(f\"The first name of employee1: {emp_1.first}\")\n",
    "print(f\"The last name of employee1: {emp_1.last}\")\n",
    "print(f\"The age of employee1: {emp_2.age}\")\n",
    "print(f\"The email of employee2: {emp_2.email}\")\n",
    "#print(f\"Employee1's full name is: {emp_1.first} {emp_1.last}\")\n",
    "#print(f\"Employee2's full name is: {emp_2.first} {emp_2.last}\")\n",
    "emp_1.fullname() # do not need to run a print statement because it is already printing."
   ]
  },
  {
   "cell_type": "code",
   "execution_count": null,
   "id": "a9136cf8",
   "metadata": {},
   "outputs": [],
   "source": []
  },
  {
   "cell_type": "markdown",
   "id": "5d60f7c0",
   "metadata": {},
   "source": [
    "### Creating the Dog Class\n",
    "Each instance created from the Dog class will store a name and an age, and we’ll give each dog the ability to sit() and roll_over():"
   ]
  },
  {
   "cell_type": "code",
   "execution_count": 28,
   "id": "6e84155c",
   "metadata": {},
   "outputs": [
    {
     "name": "stdout",
     "output_type": "stream",
     "text": [
      "Shelly\n",
      "4\n",
      "Shelly is now sitting\n",
      "Shelly is rolled over\n",
      "Penny\n",
      "1\n",
      "Penny is now sitting\n",
      "Penny is rolled over\n",
      "Penny shaked the hand of a random person\n",
      "Penny barked at a random stranger\n",
      "Penny is now down\n"
     ]
    }
   ],
   "source": [
    "class Dog():\n",
    "    \n",
    "    def __init__(self,name,age):\n",
    "        self.name=name.title()\n",
    "        self.age=age\n",
    "        \n",
    "    def sit(self):\n",
    "        print(f\"{self.name} is now sitting\")\n",
    "        \n",
    "    def roll_over(self):\n",
    "        print(f\"{self.name} is rolled over\")\n",
    "        \n",
    "    def shake(self):\n",
    "        print(f\"{self.name} shaked the hand of a random person\")\n",
    "        \n",
    "    def bark(self):\n",
    "        print(f\"{self.name} barked at a random stranger\")\n",
    "        \n",
    "    def down(self):\n",
    "        print(f\"{self.name} is now down\")\n",
    "\n",
    "dog1=Dog(\"Shelly\",4)\n",
    "print(dog1.name)\n",
    "print(dog1.age)\n",
    "dog1.sit()\n",
    "dog1.roll_over()\n",
    "\n",
    "\n",
    "dog2=Dog(\"Penny\",1)\n",
    "print(dog2.name)\n",
    "print(dog2.age)\n",
    "dog2.sit()\n",
    "dog2.roll_over()\n",
    "dog2.shake()\n",
    "dog2.bark()\n",
    "dog2.down()"
   ]
  },
  {
   "cell_type": "markdown",
   "id": "8bbcc5c0",
   "metadata": {},
   "source": [
    "#### Note:\n",
    "- By convention, capitalized names refer to classes in Python. \n",
    "- The parentheses in the class definition are empty because we’re creating this class from scratch.\n",
    "- All classes have a function called __init__(), which is always executed when the class is being initiated.\n",
    "- Use the __init__() function to assign values to object properties, or other operations that are necessary to do when the object is being created\n",
    "- Any variable prefixed with `self` is available to every method in the class, and we’ll also be able to access these variables through any instance created from the class.\n",
    "- The Dog class has two other methods defined: sit() and roll_over().Because these methods don’t need additional information like a name or age, we just define them to have one parameter, self."
   ]
  },
  {
   "cell_type": "markdown",
   "id": "402f0696",
   "metadata": {},
   "source": [
    "### Restaurant: Make a class called Restaurant. The __init__() method for Restaurant should store two attributes: a restaurant_name and a cuisine_type.\n",
    "- Make a method called `describe_restaurant()` that prints name of teh restrurent and the cuisine type\n",
    "- and a method called open_restaurant() that prints a message indicating that the restaurant is open.\n",
    "- Make an instance called restaurant from your class. Print the two attributes individually, and then call both methods.\n"
   ]
  },
  {
   "cell_type": "code",
   "execution_count": 5,
   "id": "c4316b2d",
   "metadata": {},
   "outputs": [
    {
     "name": "stdout",
     "output_type": "stream",
     "text": [
      "Jimmy'S Jambalaya\n",
      "seafood\n",
      "Jimmy'S Jambalaya serves wonderful seafood.\n",
      "Jimmy'S Jambalaya is now open. Come on in.\n",
      "Restaurant name is: Jimmy'S Jambalaya.\n",
      "Cuisine type: seafood.\n"
     ]
    }
   ],
   "source": [
    "class restaurant():\n",
    "    def __init__(self, name, cuisine_type):\n",
    "        self.name=name.title()\n",
    "        self.cuisine_type=cuisine_type.lower()\n",
    "        \n",
    "    def describe_restaurant(self):\n",
    "        print(f\"{self.name} serves wonderful {self.cuisine_type}.\")\n",
    "        \n",
    "    def open_restaurant(self):\n",
    "        print(f\"{self.name} is now open. Come on in.\")\n",
    "    \n",
    "restaurant1=restaurant(\"Jimmy's Jambalaya\", \"Seafood\")\n",
    "print(restaurant1.name)\n",
    "print(restaurant1.cuisine_type)\n",
    "restaurant1.describe_restaurant()\n",
    "restaurant1.open_restaurant()\n",
    "\n",
    "print(f\"Restaurant name is: {restaurant1.name}.\")\n",
    "print(f\"Cuisine type: {restaurant1.cuisine_type}.\")\n"
   ]
  },
  {
   "cell_type": "markdown",
   "id": "8b4a4fca",
   "metadata": {},
   "source": [
    "### - Create three different instances from the class, and call describe_restaurant() for each instance."
   ]
  },
  {
   "cell_type": "code",
   "execution_count": 6,
   "id": "b3845fe0",
   "metadata": {},
   "outputs": [
    {
     "name": "stdout",
     "output_type": "stream",
     "text": [
      "Coach'S Corner\n",
      "bar food\n",
      "Coach'S Corner serves wonderful bar food.\n",
      "Coach'S Corner is now open. Come on in.\n"
     ]
    }
   ],
   "source": [
    "restaurant2=restaurant(\"Coach's Corner\", \"Bar food\")\n",
    "print(restaurant2.name)\n",
    "print(restaurant2.cuisine_type)\n",
    "restaurant2.describe_restaurant()\n",
    "restaurant2.open_restaurant()"
   ]
  },
  {
   "cell_type": "code",
   "execution_count": 7,
   "id": "e6aa8a33",
   "metadata": {},
   "outputs": [
    {
     "name": "stdout",
     "output_type": "stream",
     "text": [
      "Deep Dish Chicago\n",
      "chicago-style pizza\n",
      "Deep Dish Chicago serves wonderful chicago-style pizza.\n",
      "Deep Dish Chicago is now open. Come on in.\n"
     ]
    }
   ],
   "source": [
    "restaurant3=restaurant(\"Deep Dish Chicago\", \"Chicago-style pizza\")\n",
    "print(restaurant3.name)\n",
    "print(restaurant3.cuisine_type)\n",
    "restaurant3.describe_restaurant()\n",
    "restaurant3.open_restaurant()"
   ]
  },
  {
   "cell_type": "code",
   "execution_count": 8,
   "id": "6b24e6f1",
   "metadata": {},
   "outputs": [
    {
     "name": "stdout",
     "output_type": "stream",
     "text": [
      "Mangino'S\n",
      "italian cuisine\n",
      "Mangino'S serves wonderful italian cuisine.\n",
      "Mangino'S is now open. Come on in.\n"
     ]
    }
   ],
   "source": [
    "restaurant4=restaurant(\"Mangino's\", \"Italian cuisine\")\n",
    "print(restaurant4.name)\n",
    "print(restaurant4.cuisine_type)\n",
    "restaurant4.describe_restaurant()\n",
    "restaurant4.open_restaurant()"
   ]
  },
  {
   "cell_type": "markdown",
   "id": "8f4032c6",
   "metadata": {},
   "source": [
    "### Users: Make a class called User. Create attributes called first_name and last_name, username, location \n",
    "- Make a method called describe_user() that prints a summary of the user’s information. \n",
    "- Make another method called greet_user() that prints a personalized greeting to the user.\n",
    "- Create several instances representing different users, and call both methods for each user."
   ]
  },
  {
   "cell_type": "code",
   "execution_count": 17,
   "id": "dda94ce2",
   "metadata": {},
   "outputs": [
    {
     "name": "stdout",
     "output_type": "stream",
     "text": [
      "Tristan Beckmann\n",
      "\tUsername: Tbone24\n",
      "\tLocation: Louisville\n",
      "Hello Tristan, it is great to see you this morning.\n"
     ]
    }
   ],
   "source": [
    "class user():\n",
    "    def __init__(self, first_name, last_name, username, location):\n",
    "        self.first_name=first_name.title()\n",
    "        self.last_name=last_name.title()\n",
    "        self.username=username.title()\n",
    "        self.location=location.title()\n",
    "        \n",
    "    def describe_user(self):\n",
    "        print(f\"{self.first_name} {self.last_name}\")\n",
    "        print(f\"\\tUsername: {self.username}\")\n",
    "        print(f\"\\tLocation: {self.location}\")\n",
    "        \n",
    "    def greet_user(self):\n",
    "        print(f\"Hello {self.first_name}, it is great to see you this morning.\")\n",
    "        \n",
    "user1=user(\"Tristan\", \"Beckmann\", \"tbone24\", \"Louisville\")\n",
    "\n",
    "user1.describe_user()\n",
    "user1.greet_user()\n",
    "    "
   ]
  },
  {
   "cell_type": "code",
   "execution_count": 18,
   "id": "8864d617",
   "metadata": {},
   "outputs": [
    {
     "name": "stdout",
     "output_type": "stream",
     "text": [
      "Evan Herr\n",
      "\tUsername: Evdot\n",
      "\tLocation: Evansville\n",
      "Hello Evan, it is great to see you this morning.\n"
     ]
    }
   ],
   "source": [
    "user2=user(\"Evan\", \"Herr\", \"evdot\", \"Evansville\")\n",
    "\n",
    "user2.describe_user()\n",
    "user2.greet_user()\n",
    "    "
   ]
  },
  {
   "cell_type": "code",
   "execution_count": 19,
   "id": "b0a92047",
   "metadata": {},
   "outputs": [
    {
     "name": "stdout",
     "output_type": "stream",
     "text": [
      "Bryce Hutchins\n",
      "\tUsername: Hutchdog\n",
      "\tLocation: New Albany\n",
      "Hello Bryce, it is great to see you this morning.\n"
     ]
    }
   ],
   "source": [
    "user3=user(\"Bryce\", \"Hutchins\", \"Hutchdog\", \"New Albany\")\n",
    "\n",
    "user3.describe_user()\n",
    "user3.greet_user()"
   ]
  },
  {
   "cell_type": "code",
   "execution_count": 20,
   "id": "db45ea59",
   "metadata": {},
   "outputs": [
    {
     "name": "stdout",
     "output_type": "stream",
     "text": [
      "Sheldan Christmas\n",
      "\tUsername: S-Box\n",
      "\tLocation: Loogootee\n",
      "Hello Sheldan, it is great to see you this morning.\n"
     ]
    }
   ],
   "source": [
    "user4=user(\"Sheldan\", \"Christmas\", \"S-box\", \"Loogootee\")\n",
    "\n",
    "user4.describe_user()\n",
    "user4.greet_user()"
   ]
  },
  {
   "cell_type": "markdown",
   "id": "8b5bfff2",
   "metadata": {},
   "source": [
    "## Setting a Default Value for an Attribute"
   ]
  },
  {
   "cell_type": "code",
   "execution_count": 28,
   "id": "bbdc7a10",
   "metadata": {},
   "outputs": [
    {
     "name": "stdout",
     "output_type": "stream",
     "text": [
      "2015 Nissan Altima\n",
      "2020 Mclaren Senna\n",
      "The car has 0 miles on it\n",
      "The car has 0 miles on it\n"
     ]
    }
   ],
   "source": [
    "class Car():\n",
    "    def __init__(self,make,model,year):\n",
    "        self.make=make.title()\n",
    "        self.model=model.title()\n",
    "        self.year=year\n",
    "        self.odometer_reading=0\n",
    "        \n",
    "    def get_descriptive(self):\n",
    "        descript=str(self.year)+\" \"+self.make+\" \"+self.model\n",
    "        return descript\n",
    "        \n",
    "    def read_odometer(self):\n",
    "        print(f\"The car has {self.odometer_reading} miles on it\")\n",
    "        \n",
    "    def update_odometer(self,mileage):\n",
    "        self.odometer_reading=mileage\n",
    "        print(f\"The current reading on the odometer is {self.odometer_reading}\")\n",
    "    \n",
    "    def incremental_odometer(self,miles):\n",
    "        self.odometer_reading+= miles\n",
    "        print(f\"The updated odometer reading is {self.odometer_reading}\")\n",
    "car1=Car(\"Nissan\",\"Altima\",2015)\n",
    "print(car1.get_descriptive())   # Not printing will cause this attirbute to be overridden\n",
    "car2=Car(\"Mclaren\",\"Senna\",2020)\n",
    "print(car2.get_descriptive()) #Printing will allow you to run more than one attribute at a time. \n",
    "(car1.read_odometer()) # Do not need to print this because already printed it in the read_odometer function\n",
    "(car2.read_odometer())"
   ]
  },
  {
   "cell_type": "markdown",
   "id": "3f840f3e",
   "metadata": {},
   "source": [
    "#### Modifying an Attribute’s Value Directly"
   ]
  },
  {
   "cell_type": "code",
   "execution_count": 29,
   "id": "6f8fa540",
   "metadata": {},
   "outputs": [
    {
     "name": "stdout",
     "output_type": "stream",
     "text": [
      "The car has 23 miles on it\n",
      "The current reading on the odometer is 23\n",
      "The updated odometer reading is 1023\n"
     ]
    }
   ],
   "source": [
    "car1.odometer_reading=23\n",
    "car1.read_odometer()\n",
    "car1.update_odometer(23)\n",
    "car1.incremental_odometer(1000)"
   ]
  },
  {
   "cell_type": "markdown",
   "id": "b96f0d18",
   "metadata": {},
   "source": [
    "# Inheritance\n",
    "- You don’t always have to start from scratch when writing a class. If the class you’re writing is a specialized version of another class you wrote, you can use inheritance. \n",
    "- When one class inherits from another, it automatically takes on all the attributes and methods of the first class. The original class is called the `parent class`, and the new class is the `child class`. \n",
    "- The child class inherits every attribute and method from its parent class but is also free to define new attributes and methods of its own."
   ]
  },
  {
   "cell_type": "markdown",
   "id": "04659532",
   "metadata": {},
   "source": [
    "### Parent Class - Polygon\n",
    "- Create a method called calc_perimeter"
   ]
  },
  {
   "cell_type": "code",
   "execution_count": 1,
   "id": "07cbb387",
   "metadata": {},
   "outputs": [],
   "source": [
    "class Polygon:\n",
    "    def __init__(self,side_length):\n",
    "        self.side_length=side_length\n",
    "        \n",
    "    def perimeter(self):\n",
    "        return sum(self.side_length)\n",
    "    "
   ]
  },
  {
   "cell_type": "code",
   "execution_count": 2,
   "id": "34de9649",
   "metadata": {},
   "outputs": [
    {
     "name": "stdout",
     "output_type": "stream",
     "text": [
      "23\n"
     ]
    }
   ],
   "source": [
    "some_shape=Polygon([1,3,5,6,8])\n",
    "print(some_shape.perimeter())"
   ]
  },
  {
   "cell_type": "code",
   "execution_count": 3,
   "id": "e51680af",
   "metadata": {},
   "outputs": [
    {
     "name": "stdout",
     "output_type": "stream",
     "text": [
      "177\n"
     ]
    }
   ],
   "source": [
    "another_shape=Polygon([2,56,65,12,34,8])\n",
    "print(another_shape.perimeter())"
   ]
  },
  {
   "cell_type": "markdown",
   "id": "44635c82",
   "metadata": {},
   "source": [
    "### Child Class"
   ]
  },
  {
   "cell_type": "markdown",
   "id": "cbd424a2",
   "metadata": {},
   "source": [
    "#### Create a child class called triangle and calculate the perimeter and the area"
   ]
  },
  {
   "cell_type": "code",
   "execution_count": 4,
   "id": "e565443d",
   "metadata": {},
   "outputs": [],
   "source": [
    "class Triangle(Polygon):\n",
    "    def __init__(self,side_length):\n",
    "        super().__init__(side_length)\n",
    "    \n",
    "    def area(self):\n",
    "        a,b,c=self.side_length # unpacking the input variables\n",
    "        s=(a+b+c)/2\n",
    "        return (s*(s-a)*(s-b)*(s-c))**.5\n",
    "    \n",
    "    "
   ]
  },
  {
   "cell_type": "code",
   "execution_count": 9,
   "id": "d537fe2c",
   "metadata": {},
   "outputs": [
    {
     "name": "stdout",
     "output_type": "stream",
     "text": [
      "The perimeter is 12\n",
      "The area is 6.0\n"
     ]
    }
   ],
   "source": [
    "a_triangle=Triangle([3,4,5])\n",
    "print(f\"The perimeter is {a_triangle.perimeter()}\")\n",
    "print(f\"The area is {(a_triangle.area())}\")"
   ]
  },
  {
   "cell_type": "markdown",
   "id": "e9f075f7",
   "metadata": {},
   "source": [
    "#### Create a child class called square and calculate the perimeter and the area"
   ]
  },
  {
   "cell_type": "code",
   "execution_count": 10,
   "id": "6dd6d7ee",
   "metadata": {},
   "outputs": [
    {
     "name": "stdout",
     "output_type": "stream",
     "text": [
      "The perimeter is 20\n",
      "The area is 25\n"
     ]
    }
   ],
   "source": [
    "class Square(Polygon):\n",
    "    def __init__(self,side_length):\n",
    "        super().__init__(side_length)\n",
    "    \n",
    "    def area(self):\n",
    "        a,b,c,d=self.side_length\n",
    "        return a**2 # all sides are equal so variable chosen does not matter for result\n",
    "    \n",
    "a_Square=Square([5,5,5,5])\n",
    "print(f\"The perimeter is {a_Square.perimeter()}\")\n",
    "print(f\"The area is {(a_Square.area())}\")\n",
    "    "
   ]
  },
  {
   "cell_type": "markdown",
   "id": "85f36fb8",
   "metadata": {},
   "source": [
    "#### Create a child class called rectangle and calculate the perimeter and the area"
   ]
  },
  {
   "cell_type": "code",
   "execution_count": 12,
   "id": "696dff67",
   "metadata": {},
   "outputs": [
    {
     "name": "stdout",
     "output_type": "stream",
     "text": [
      "The perimeter is 10\n",
      "The area is 6\n"
     ]
    }
   ],
   "source": [
    "class Rectangle(Polygon):\n",
    "    def __init__(self,side_length):\n",
    "        super().__init__(side_length)\n",
    "    \n",
    "    def area(self):\n",
    "        a,b,c,d=self.side_length\n",
    "        if a!=b:\n",
    "            result=a*b\n",
    "        elif a!=c:\n",
    "            result=a*c\n",
    "        else:\n",
    "            result=a*d\n",
    "        return result\n",
    "\n",
    "a_Rectangle=Rectangle([2,2,3,3])\n",
    "print(f\"The perimeter is {a_Rectangle.perimeter()}\")\n",
    "print(f\"The area is {(a_Rectangle.area())}\")"
   ]
  },
  {
   "cell_type": "markdown",
   "id": "5b594c20",
   "metadata": {},
   "source": [
    "### Practice: Create a class named Person, with firstname and lastname properties, and a printname method:"
   ]
  },
  {
   "cell_type": "code",
   "execution_count": 18,
   "id": "f1316c84",
   "metadata": {},
   "outputs": [
    {
     "name": "stdout",
     "output_type": "stream",
     "text": [
      "Tristan Beckmann\n",
      "Bryce Hutchins\n",
      "Evan Herr\n"
     ]
    }
   ],
   "source": [
    "class Person():\n",
    "    def __init__(self, first_name, last_name):\n",
    "        self.first_name=first_name.title()\n",
    "        self.last_name=last_name.title()\n",
    "        \n",
    "    def print_name(self):\n",
    "        print(f\"{self.first_name} {self.last_name}\")\n",
    "        \n",
    "Person1=Person(\"Tristan\", \"Beckmann\")\n",
    "Person2=Person(\"Bryce\", \"Hutchins\")\n",
    "Person3=Person(\"Evan\", \"Herr\")\n",
    "\n",
    "Person1.print_name()\n",
    "Person2.print_name()\n",
    "Person3.print_name()"
   ]
  },
  {
   "cell_type": "markdown",
   "id": "a8023470",
   "metadata": {},
   "source": [
    "### Create child classes called Student using Inheritance contains the first and last name and the graduation year \n",
    "- Add a method called `welcome` that prints the student graduation year\n",
    "- Test the student method for two students"
   ]
  },
  {
   "cell_type": "code",
   "execution_count": 20,
   "id": "8a1571d5",
   "metadata": {},
   "outputs": [
    {
     "name": "stdout",
     "output_type": "stream",
     "text": [
      "Jim Bowen\n",
      "Welcome Jim Bowen to the Class of 2025\n",
      "Ricky Herrera\n",
      "Welcome Ricky Herrera to the Class of 2028\n",
      "Elijah Brimm\n",
      "Welcome Elijah Brimm to the Class of 2029\n"
     ]
    }
   ],
   "source": [
    "class Student(Person):\n",
    "    def __init__(self, first_name, last_name, grad_year):\n",
    "        super().__init__(first_name, last_name)\n",
    "        self.grad_year=grad_year\n",
    "        \n",
    "    def welcome(self):\n",
    "        print(f\"Welcome {self.first_name} {self.last_name} to the Class of {self.grad_year}\")\n",
    "        \n",
    "Student1=Student(\"Jim\", \"Bowen\",2025)\n",
    "Student2=Student(\"Ricky\", \"Herrera\",2028)\n",
    "Student3=Student(\"Elijah\", \"Brimm\",2029)\n",
    "\n",
    "Student1.print_name()\n",
    "Student1.welcome()\n",
    "Student2.print_name()\n",
    "Student2.welcome()\n",
    "Student3.print_name()\n",
    "Student3.welcome()\n"
   ]
  },
  {
   "cell_type": "markdown",
   "id": "48b609e8",
   "metadata": {},
   "source": [
    "### Use inheritance to create the square class from parent class rectangle"
   ]
  },
  {
   "cell_type": "markdown",
   "id": "1ce4f8cc",
   "metadata": {},
   "source": [
    "#### Create a parent class rectangle and two methods called area and perimeter"
   ]
  },
  {
   "cell_type": "code",
   "execution_count": 21,
   "id": "e0417fc5",
   "metadata": {},
   "outputs": [],
   "source": [
    "class Rectangle():\n",
    "    def __init__(self,length,width):\n",
    "        self.length=length\n",
    "        self.width=width\n",
    "        \n",
    "    def area(self):\n",
    "        return self.length*self.width\n",
    "    \n",
    "    def perimeter(self):\n",
    "        return 2*(self.length+self.width)"
   ]
  },
  {
   "cell_type": "markdown",
   "id": "176d8727",
   "metadata": {},
   "source": [
    "#### Create a child class square and test for two cases, do method overloading for area and perimeter."
   ]
  },
  {
   "cell_type": "code",
   "execution_count": 22,
   "id": "9a316ce0",
   "metadata": {},
   "outputs": [],
   "source": [
    "class Square(Rectangle):\n",
    "    def __init__(self,length):\n",
    "        super().__init__(length,length)"
   ]
  },
  {
   "cell_type": "code",
   "execution_count": 24,
   "id": "2f4c66ee",
   "metadata": {},
   "outputs": [
    {
     "name": "stdout",
     "output_type": "stream",
     "text": [
      "16\n",
      "16\n"
     ]
    }
   ],
   "source": [
    "square1=Square(4)\n",
    "print(square1.area())\n",
    "print(square1.perimeter())"
   ]
  },
  {
   "cell_type": "markdown",
   "id": "3bdcfd1c",
   "metadata": {},
   "source": [
    "## Create a simple calculator using classes"
   ]
  },
  {
   "cell_type": "code",
   "execution_count": 30,
   "id": "6ab4b4b1",
   "metadata": {},
   "outputs": [
    {
     "name": "stdout",
     "output_type": "stream",
     "text": [
      "Enter first number: 1\n",
      "Enter second number: 4\n",
      "\n",
      "0. Exit\n",
      "1. Addition\n",
      "2. Subtraction\n",
      "3. Multiplication\n",
      "4. Division\n",
      "Enter your choice...2\n",
      "The result is -3\n",
      "\n",
      "0. Exit\n",
      "1. Addition\n",
      "2. Subtraction\n",
      "3. Multiplication\n",
      "4. Division\n",
      "Enter your choice...0\n",
      "Exit\n",
      "\n"
     ]
    }
   ],
   "source": [
    "class calculator():\n",
    "    def __init__(self, input1, input2):\n",
    "        self.input1=input1\n",
    "        self.input2=input2\n",
    "    def addition(self):\n",
    "        return self.input1 + self.input2\n",
    "    def subtraction(self):\n",
    "        return self.input1-self.input2\n",
    "    def multiplication(self):\n",
    "        return self.input1*self.input2\n",
    "    def division(self):\n",
    "        return self.input1/self.input2\n",
    "input_1=int(input(\"Enter first number: \"))\n",
    "input_2=int(input(\"Enter second number: \"))\n",
    "my_calc=calculator(input_1,input_2)\n",
    "\n",
    "choice=1\n",
    "while choice!=0:\n",
    "    print()\n",
    "    print(\"0. Exit\")\n",
    "    print(\"1. Addition\")\n",
    "    print(\"2. Subtraction\")\n",
    "    print(\"3. Multiplication\")\n",
    "    print(\"4. Division\")\n",
    "    choice=int(input(\"Enter your choice...\"))\n",
    "    \n",
    "    if choice==1:\n",
    "        print(f\"The result is {my_calc.addition()}\")\n",
    "    elif choice==2:\n",
    "        print(f\"The result is {my_calc.subtraction()}\")\n",
    "    elif choice==3:\n",
    "        print(f\"The result is {my_calc.multiplication()}\")\n",
    "    elif choice==4:\n",
    "        print(f\"The result is {my_calc.division()}\")\n",
    "    elif choice==0:\n",
    "        print(\"Exit\")\n",
    "    else:\n",
    "        print(\"Sorry, invalid choice\")\n",
    "print()  "
   ]
  },
  {
   "cell_type": "markdown",
   "id": "e8980792",
   "metadata": {},
   "source": [
    "## Lambda Function"
   ]
  },
  {
   "cell_type": "code",
   "execution_count": 31,
   "id": "8040df37",
   "metadata": {},
   "outputs": [],
   "source": [
    "# The identity function returns the argument\n",
    "def identity(x):\n",
    "    return x"
   ]
  },
  {
   "cell_type": "code",
   "execution_count": 32,
   "id": "c9bd55ce",
   "metadata": {},
   "outputs": [
    {
     "data": {
      "text/plain": [
       "3"
      ]
     },
     "execution_count": 32,
     "metadata": {},
     "output_type": "execute_result"
    }
   ],
   "source": [
    "identity(3)"
   ]
  },
  {
   "cell_type": "markdown",
   "id": "bb932e86",
   "metadata": {},
   "source": [
    "## A lambda function construction:"
   ]
  },
  {
   "cell_type": "code",
   "execution_count": 33,
   "id": "df2ffa00",
   "metadata": {},
   "outputs": [
    {
     "data": {
      "text/plain": [
       "2"
      ]
     },
     "execution_count": 33,
     "metadata": {},
     "output_type": "execute_result"
    }
   ],
   "source": [
    "(lambda x:x)(2) # (lambda argument: expression)(Input)"
   ]
  },
  {
   "cell_type": "code",
   "execution_count": 34,
   "id": "6a79870b",
   "metadata": {},
   "outputs": [
    {
     "data": {
      "text/plain": [
       "4"
      ]
     },
     "execution_count": 34,
     "metadata": {},
     "output_type": "execute_result"
    }
   ],
   "source": [
    "(lambda x:x+1)(3)"
   ]
  },
  {
   "cell_type": "code",
   "execution_count": 35,
   "id": "156a0ebd",
   "metadata": {},
   "outputs": [],
   "source": [
    "# since lambda is a function, we can store it to an assigned variable\n",
    "variable_one=lambda x:x+1"
   ]
  },
  {
   "cell_type": "code",
   "execution_count": 37,
   "id": "985264fa",
   "metadata": {},
   "outputs": [
    {
     "data": {
      "text/plain": [
       "4"
      ]
     },
     "execution_count": 37,
     "metadata": {},
     "output_type": "execute_result"
    }
   ],
   "source": [
    "variable_one(3)"
   ]
  },
  {
   "cell_type": "markdown",
   "id": "74e2bb2e",
   "metadata": {},
   "source": [
    "## Common use of the lambda function\n",
    "    * It is used with iterables which are series of values.\n",
    "    * Python iterables are lists, dictionaries, strings, and tuples.\n",
    "    * Two common functions that work with the lambda function are filter() and map()."
   ]
  },
  {
   "cell_type": "markdown",
   "id": "68e3378b",
   "metadata": {},
   "source": [
    "### filter()"
   ]
  },
  {
   "cell_type": "markdown",
   "id": "310c1d14",
   "metadata": {},
   "source": [
    "#### Example: we have a list [1,2,3,4,5,6,7,8,9,10]. We are only interested in even numbers"
   ]
  },
  {
   "cell_type": "code",
   "execution_count": 38,
   "id": "8c3b4024",
   "metadata": {},
   "outputs": [
    {
     "data": {
      "text/plain": [
       "[2, 4, 6, 8, 10]"
      ]
     },
     "execution_count": 38,
     "metadata": {},
     "output_type": "execute_result"
    }
   ],
   "source": [
    "list1=[1,2,3,4,5,6,7,8,9,10]\n",
    "list(filter(lambda x:x%2==0, list1))"
   ]
  },
  {
   "cell_type": "code",
   "execution_count": 39,
   "id": "1a290423",
   "metadata": {},
   "outputs": [
    {
     "data": {
      "text/plain": [
       "[1, 3, 5, 7, 9]"
      ]
     },
     "execution_count": 39,
     "metadata": {},
     "output_type": "execute_result"
    }
   ],
   "source": [
    "# Filter the odd numbers\n",
    "list(filter(lambda x: x%2==1, list1))"
   ]
  },
  {
   "cell_type": "code",
   "execution_count": 40,
   "id": "ece9320b",
   "metadata": {},
   "outputs": [
    {
     "data": {
      "text/plain": [
       "[3, 6, 9]"
      ]
     },
     "execution_count": 40,
     "metadata": {},
     "output_type": "execute_result"
    }
   ],
   "source": [
    "# Filter the numbers by multiples of 3\n",
    "list(filter(lambda x: x%3==0, list1))"
   ]
  },
  {
   "cell_type": "markdown",
   "id": "30de1035",
   "metadata": {},
   "source": [
    "#### `map()` use whenever you want to update/ modify every value in an iterable"
   ]
  },
  {
   "cell_type": "code",
   "execution_count": 41,
   "id": "22cb5d60",
   "metadata": {},
   "outputs": [
    {
     "data": {
      "text/plain": [
       "[1, 4, 9, 16, 25, 36, 49, 64, 81, 100]"
      ]
     },
     "execution_count": 41,
     "metadata": {},
     "output_type": "execute_result"
    }
   ],
   "source": [
    "# Create a new list of power of two\n",
    "list1=[1,2,3,4,5,6,7,8,9,10]\n",
    "\n",
    "list(map(lambda x: pow(x,2),list1))"
   ]
  },
  {
   "cell_type": "code",
   "execution_count": 42,
   "id": "141d7bf6",
   "metadata": {},
   "outputs": [
    {
     "data": {
      "text/plain": [
       "[1, 8, 27, 64, 125, 216, 343, 512, 729, 1000]"
      ]
     },
     "execution_count": 42,
     "metadata": {},
     "output_type": "execute_result"
    }
   ],
   "source": [
    "# Find the cube of each number\n",
    "list(map(lambda y: pow(y,3), list1))"
   ]
  },
  {
   "cell_type": "markdown",
   "id": "168013f0",
   "metadata": {},
   "source": [
    "### Examples"
   ]
  },
  {
   "cell_type": "code",
   "execution_count": 43,
   "id": "d776eeb8",
   "metadata": {},
   "outputs": [
    {
     "data": {
      "text/plain": [
       "6"
      ]
     },
     "execution_count": 43,
     "metadata": {},
     "output_type": "execute_result"
    }
   ],
   "source": [
    "(lambda x,y,z:x+y+z)(1,2,3)"
   ]
  },
  {
   "cell_type": "code",
   "execution_count": 44,
   "id": "2fe9b68e",
   "metadata": {},
   "outputs": [
    {
     "data": {
      "text/plain": [
       "5"
      ]
     },
     "execution_count": 44,
     "metadata": {},
     "output_type": "execute_result"
    }
   ],
   "source": [
    "(lambda x, y, z=2: x+y+z)(1,2)"
   ]
  },
  {
   "cell_type": "code",
   "execution_count": 45,
   "id": "0179e8c2",
   "metadata": {},
   "outputs": [
    {
     "data": {
      "text/plain": [
       "3"
      ]
     },
     "execution_count": 45,
     "metadata": {},
     "output_type": "execute_result"
    }
   ],
   "source": [
    "(lambda x, y, z=2: x+y+z)(1,2,0)"
   ]
  },
  {
   "cell_type": "code",
   "execution_count": 46,
   "id": "ac20d984",
   "metadata": {},
   "outputs": [
    {
     "data": {
      "text/plain": [
       "23"
      ]
     },
     "execution_count": 46,
     "metadata": {},
     "output_type": "execute_result"
    }
   ],
   "source": [
    "(lambda *args: sum(args))(1,2,3,4,5,8)"
   ]
  },
  {
   "cell_type": "markdown",
   "id": "ce79e067",
   "metadata": {},
   "source": [
    "### Handling exceptions"
   ]
  },
  {
   "cell_type": "code",
   "execution_count": 47,
   "id": "c38f35bc",
   "metadata": {},
   "outputs": [
    {
     "ename": "ZeroDivisionError",
     "evalue": "division by zero",
     "output_type": "error",
     "traceback": [
      "\u001b[1;31m---------------------------------------------------------------------------\u001b[0m",
      "\u001b[1;31mZeroDivisionError\u001b[0m                         Traceback (most recent call last)",
      "\u001b[1;32m~\\AppData\\Local\\Temp\\ipykernel_13104\\1152173066.py\u001b[0m in \u001b[0;36m<module>\u001b[1;34m\u001b[0m\n\u001b[1;32m----> 1\u001b[1;33m \u001b[0mprint\u001b[0m\u001b[1;33m(\u001b[0m\u001b[1;36m5\u001b[0m\u001b[1;33m/\u001b[0m\u001b[1;36m0\u001b[0m\u001b[1;33m)\u001b[0m\u001b[1;33m\u001b[0m\u001b[1;33m\u001b[0m\u001b[0m\n\u001b[0m",
      "\u001b[1;31mZeroDivisionError\u001b[0m: division by zero"
     ]
    }
   ],
   "source": [
    "print(5/0)"
   ]
  },
  {
   "cell_type": "code",
   "execution_count": 48,
   "id": "56921a5b",
   "metadata": {},
   "outputs": [
    {
     "ename": "TypeError",
     "evalue": "unsupported operand type(s) for +: 'int' and 'str'",
     "output_type": "error",
     "traceback": [
      "\u001b[1;31m---------------------------------------------------------------------------\u001b[0m",
      "\u001b[1;31mTypeError\u001b[0m                                 Traceback (most recent call last)",
      "\u001b[1;32m~\\AppData\\Local\\Temp\\ipykernel_13104\\1063262666.py\u001b[0m in \u001b[0;36m<module>\u001b[1;34m\u001b[0m\n\u001b[0;32m      1\u001b[0m \u001b[0mx\u001b[0m\u001b[1;33m=\u001b[0m\u001b[1;36m5\u001b[0m\u001b[1;33m\u001b[0m\u001b[1;33m\u001b[0m\u001b[0m\n\u001b[0;32m      2\u001b[0m \u001b[0my\u001b[0m\u001b[1;33m=\u001b[0m\u001b[1;34m\"Hello\"\u001b[0m\u001b[1;33m\u001b[0m\u001b[1;33m\u001b[0m\u001b[0m\n\u001b[1;32m----> 3\u001b[1;33m \u001b[0mz\u001b[0m\u001b[1;33m=\u001b[0m \u001b[0mx\u001b[0m\u001b[1;33m+\u001b[0m\u001b[0my\u001b[0m\u001b[1;33m\u001b[0m\u001b[1;33m\u001b[0m\u001b[0m\n\u001b[0m",
      "\u001b[1;31mTypeError\u001b[0m: unsupported operand type(s) for +: 'int' and 'str'"
     ]
    }
   ],
   "source": [
    "x=5\n",
    "y=\"Hello\"\n",
    "z= x+y"
   ]
  },
  {
   "cell_type": "code",
   "execution_count": 49,
   "id": "681f4d4d",
   "metadata": {},
   "outputs": [
    {
     "name": "stdout",
     "output_type": "stream",
     "text": [
      "Error: can not add int and str\n"
     ]
    }
   ],
   "source": [
    "x=5\n",
    "y=\"Hello\"\n",
    "\n",
    "try:\n",
    "    z=x+y\n",
    "except TypeError:\n",
    "    print(\"Error: can not add int and str\")"
   ]
  },
  {
   "cell_type": "code",
   "execution_count": 50,
   "id": "00dd7386",
   "metadata": {},
   "outputs": [
    {
     "name": "stdout",
     "output_type": "stream",
     "text": [
      "Second variable:  2\n",
      "An error occured\n"
     ]
    }
   ],
   "source": [
    "list1=[1,2,3]\n",
    "try:\n",
    "    print(\"Second variable: \", list1[1])\n",
    "    print(\"Fourth variable: \", list1[3])\n",
    "except:\n",
    "    print(\"An error occured\")"
   ]
  },
  {
   "cell_type": "code",
   "execution_count": 51,
   "id": "1d6b44d3",
   "metadata": {},
   "outputs": [
    {
     "ename": "IndexError",
     "evalue": "list index out of range",
     "output_type": "error",
     "traceback": [
      "\u001b[1;31m---------------------------------------------------------------------------\u001b[0m",
      "\u001b[1;31mIndexError\u001b[0m                                Traceback (most recent call last)",
      "\u001b[1;32m~\\AppData\\Local\\Temp\\ipykernel_13104\\4055570827.py\u001b[0m in \u001b[0;36m<module>\u001b[1;34m\u001b[0m\n\u001b[0;32m      1\u001b[0m \u001b[0mlist1\u001b[0m\u001b[1;33m=\u001b[0m\u001b[1;33m[\u001b[0m\u001b[1;36m1\u001b[0m\u001b[1;33m,\u001b[0m\u001b[1;36m2\u001b[0m\u001b[1;33m,\u001b[0m\u001b[1;36m3\u001b[0m\u001b[1;33m]\u001b[0m\u001b[1;33m\u001b[0m\u001b[1;33m\u001b[0m\u001b[0m\n\u001b[1;32m----> 2\u001b[1;33m \u001b[0mprint\u001b[0m\u001b[1;33m(\u001b[0m\u001b[1;34m\"Fourth variable: \"\u001b[0m\u001b[1;33m,\u001b[0m \u001b[0mlist1\u001b[0m\u001b[1;33m[\u001b[0m\u001b[1;36m3\u001b[0m\u001b[1;33m]\u001b[0m\u001b[1;33m)\u001b[0m\u001b[1;33m\u001b[0m\u001b[1;33m\u001b[0m\u001b[0m\n\u001b[0m",
      "\u001b[1;31mIndexError\u001b[0m: list index out of range"
     ]
    }
   ],
   "source": [
    "list1=[1,2,3]\n",
    "print(\"Fourth variable: \", list1[3])"
   ]
  },
  {
   "cell_type": "code",
   "execution_count": 52,
   "id": "fcec97e2",
   "metadata": {},
   "outputs": [
    {
     "name": "stdout",
     "output_type": "stream",
     "text": [
      "-5.0\n",
      "a/b results 0\n"
     ]
    }
   ],
   "source": [
    "def test(a,b):\n",
    "    try:\n",
    "        c=(a+b)/(a-b)\n",
    "    except:\n",
    "        print(\"a/b results 0\")\n",
    "    else:\n",
    "        print(c)\n",
    "test(2,3)\n",
    "test(3,3)        "
   ]
  },
  {
   "cell_type": "markdown",
   "id": "0ec161b5",
   "metadata": {},
   "source": [
    "## ATM machine "
   ]
  },
  {
   "cell_type": "code",
   "execution_count": 53,
   "id": "267c3e25",
   "metadata": {},
   "outputs": [],
   "source": [
    "class Bank_account:\n",
    "    def __init__(self):\n",
    "        self.balance=0\n",
    "        print(\"Hello! Welcome to the ATM\")\n",
    "    def deposit(self):\n",
    "        amount= float(input(\"Enter the amount you want to deposit: \"))\n",
    "        self.balance+=amount\n",
    "        print(\"\\n You have deposited\", amount)\n",
    "        \n",
    "    def withdraw(self):\n",
    "        amount= float(input(\"Enter the amount you want to withdraw: \"))\n",
    "        if self.balance>=amount:\n",
    "            self.balance-=amount\n",
    "            print(\"\\n You have withdrawn\", amount)\n",
    "        else:\n",
    "            print(\"\\n Insufficient Balance\")\n",
    "    def display(self):\n",
    "        print(\"The available balance is\", self.balance)"
   ]
  },
  {
   "cell_type": "code",
   "execution_count": 54,
   "id": "a6e40459",
   "metadata": {},
   "outputs": [
    {
     "name": "stdout",
     "output_type": "stream",
     "text": [
      "Hello! Welcome to the ATM\n",
      "The available balance is 0\n"
     ]
    }
   ],
   "source": [
    "evans_account=Bank_account()\n",
    "evans_account.display()"
   ]
  },
  {
   "cell_type": "code",
   "execution_count": 55,
   "id": "5349965d",
   "metadata": {},
   "outputs": [
    {
     "name": "stdout",
     "output_type": "stream",
     "text": [
      "Enter the amount you want to deposit: 250\n",
      "\n",
      " You have deposited 250.0\n"
     ]
    }
   ],
   "source": [
    "# Deposit\n",
    "evans_account.deposit()"
   ]
  },
  {
   "cell_type": "code",
   "execution_count": 56,
   "id": "24f95bfa",
   "metadata": {},
   "outputs": [
    {
     "name": "stdout",
     "output_type": "stream",
     "text": [
      "The available balance is 250.0\n"
     ]
    }
   ],
   "source": [
    "evans_account.display()"
   ]
  },
  {
   "cell_type": "code",
   "execution_count": 57,
   "id": "dd53a8ef",
   "metadata": {},
   "outputs": [
    {
     "name": "stdout",
     "output_type": "stream",
     "text": [
      "Enter the amount you want to withdraw: 175\n",
      "\n",
      " You have withdrawn 175.0\n"
     ]
    }
   ],
   "source": [
    "# Withdraw\n",
    "evans_account.withdraw()"
   ]
  },
  {
   "cell_type": "code",
   "execution_count": 58,
   "id": "372ed172",
   "metadata": {},
   "outputs": [
    {
     "name": "stdout",
     "output_type": "stream",
     "text": [
      "The available balance is 75.0\n"
     ]
    }
   ],
   "source": [
    "evans_account.display()"
   ]
  },
  {
   "cell_type": "code",
   "execution_count": null,
   "id": "7219ae5b",
   "metadata": {},
   "outputs": [],
   "source": []
  }
 ],
 "metadata": {
  "kernelspec": {
   "display_name": "Python 3 (ipykernel)",
   "language": "python",
   "name": "python3"
  },
  "language_info": {
   "codemirror_mode": {
    "name": "ipython",
    "version": 3
   },
   "file_extension": ".py",
   "mimetype": "text/x-python",
   "name": "python",
   "nbconvert_exporter": "python",
   "pygments_lexer": "ipython3",
   "version": "3.9.13"
  }
 },
 "nbformat": 4,
 "nbformat_minor": 5
}
